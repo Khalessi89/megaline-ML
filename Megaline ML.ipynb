{
 "cells": [
  {
   "cell_type": "markdown",
   "metadata": {},
   "source": [
    "# Megaline, prediccion de planes"
   ]
  },
  {
   "cell_type": "markdown",
   "metadata": {},
   "source": [
    "La compañía móvil Megaline se enfrenta a un desafío importante: un número significativo de sus clientes aún utiliza planes heredados, lo que puede limitar tanto la satisfacción del cliente como la eficiencia operativa de la empresa. Con el objetivo de optimizar la experiencia del cliente y alentar la transición a sus nuevos planes, Smart y Ultra, Megaline busca desarrollar un modelo predictivo capaz de analizar el comportamiento de los clientes y recomendar el plan más adecuado.\n",
    "\n",
    "En este proyecto, se cuenta con acceso a los datos de comportamiento de suscriptores que ya han migrado a los nuevos planes, obtenidos del sprint de Análisis estadístico de datos. Utilizando esta información, se debe crear un modelo de clasificación que determine con precisión cuál de los nuevos planes es el más apropiado para cada cliente.\n",
    "\n",
    "La tarea principal es desarrollar un modelo que alcance la mayor exactitud posible, con un umbral mínimo de exactitud establecido en 0.75. Se utilizará el dataset disponible para validar y comprobar la exactitud del modelo. "
   ]
  },
  {
   "cell_type": "markdown",
   "metadata": {},
   "source": [
    "## Importacion de datos y librerias"
   ]
  },
  {
   "cell_type": "code",
   "execution_count": 22,
   "metadata": {},
   "outputs": [],
   "source": [
    "import pandas as pd\n",
    "from sklearn.tree import DecisionTreeClassifier\n",
    "from sklearn.ensemble import RandomForestClassifier\n",
    "import joblib\n",
    "from sklearn.model_selection import train_test_split\n",
    "from sklearn.linear_model import LogisticRegression\n",
    "from sklearn.dummy import DummyClassifier\n",
    "import numpy as np\n"
   ]
  },
  {
   "cell_type": "code",
   "execution_count": 23,
   "metadata": {},
   "outputs": [],
   "source": [
    "df = pd.read_csv('users_behavior.csv')"
   ]
  },
  {
   "cell_type": "code",
   "execution_count": 24,
   "metadata": {},
   "outputs": [
    {
     "data": {
      "text/html": [
       "<div>\n",
       "<style scoped>\n",
       "    .dataframe tbody tr th:only-of-type {\n",
       "        vertical-align: middle;\n",
       "    }\n",
       "\n",
       "    .dataframe tbody tr th {\n",
       "        vertical-align: top;\n",
       "    }\n",
       "\n",
       "    .dataframe thead th {\n",
       "        text-align: right;\n",
       "    }\n",
       "</style>\n",
       "<table border=\"1\" class=\"dataframe\">\n",
       "  <thead>\n",
       "    <tr style=\"text-align: right;\">\n",
       "      <th></th>\n",
       "      <th>calls</th>\n",
       "      <th>minutes</th>\n",
       "      <th>messages</th>\n",
       "      <th>mb_used</th>\n",
       "      <th>is_ultra</th>\n",
       "    </tr>\n",
       "  </thead>\n",
       "  <tbody>\n",
       "    <tr>\n",
       "      <th>0</th>\n",
       "      <td>40.0</td>\n",
       "      <td>311.90</td>\n",
       "      <td>83.0</td>\n",
       "      <td>19915.42</td>\n",
       "      <td>0</td>\n",
       "    </tr>\n",
       "    <tr>\n",
       "      <th>1</th>\n",
       "      <td>85.0</td>\n",
       "      <td>516.75</td>\n",
       "      <td>56.0</td>\n",
       "      <td>22696.96</td>\n",
       "      <td>0</td>\n",
       "    </tr>\n",
       "    <tr>\n",
       "      <th>2</th>\n",
       "      <td>77.0</td>\n",
       "      <td>467.66</td>\n",
       "      <td>86.0</td>\n",
       "      <td>21060.45</td>\n",
       "      <td>0</td>\n",
       "    </tr>\n",
       "    <tr>\n",
       "      <th>3</th>\n",
       "      <td>106.0</td>\n",
       "      <td>745.53</td>\n",
       "      <td>81.0</td>\n",
       "      <td>8437.39</td>\n",
       "      <td>1</td>\n",
       "    </tr>\n",
       "    <tr>\n",
       "      <th>4</th>\n",
       "      <td>66.0</td>\n",
       "      <td>418.74</td>\n",
       "      <td>1.0</td>\n",
       "      <td>14502.75</td>\n",
       "      <td>0</td>\n",
       "    </tr>\n",
       "  </tbody>\n",
       "</table>\n",
       "</div>"
      ],
      "text/plain": [
       "   calls  minutes  messages   mb_used  is_ultra\n",
       "0   40.0   311.90      83.0  19915.42         0\n",
       "1   85.0   516.75      56.0  22696.96         0\n",
       "2   77.0   467.66      86.0  21060.45         0\n",
       "3  106.0   745.53      81.0   8437.39         1\n",
       "4   66.0   418.74       1.0  14502.75         0"
      ]
     },
     "metadata": {},
     "output_type": "display_data"
    }
   ],
   "source": [
    "display(df.head())"
   ]
  },
  {
   "cell_type": "code",
   "execution_count": 25,
   "metadata": {},
   "outputs": [
    {
     "data": {
      "text/plain": [
       "is_ultra\n",
       "0    0.693528\n",
       "1    0.306472\n",
       "Name: proportion, dtype: float64"
      ]
     },
     "execution_count": 25,
     "metadata": {},
     "output_type": "execute_result"
    }
   ],
   "source": [
    "df['is_ultra'].value_counts(1)"
   ]
  },
  {
   "cell_type": "code",
   "execution_count": 26,
   "metadata": {},
   "outputs": [
    {
     "name": "stdout",
     "output_type": "stream",
     "text": [
      "<class 'pandas.core.frame.DataFrame'>\n",
      "RangeIndex: 3214 entries, 0 to 3213\n",
      "Data columns (total 5 columns):\n",
      " #   Column    Non-Null Count  Dtype  \n",
      "---  ------    --------------  -----  \n",
      " 0   calls     3214 non-null   float64\n",
      " 1   minutes   3214 non-null   float64\n",
      " 2   messages  3214 non-null   float64\n",
      " 3   mb_used   3214 non-null   float64\n",
      " 4   is_ultra  3214 non-null   int64  \n",
      "dtypes: float64(4), int64(1)\n",
      "memory usage: 125.7 KB\n"
     ]
    }
   ],
   "source": [
    "df.info()"
   ]
  },
  {
   "cell_type": "markdown",
   "metadata": {},
   "source": [
    "Los datos se observan correctos y sus tipos tambien, no hay valores ausentes."
   ]
  },
  {
   "cell_type": "markdown",
   "metadata": {},
   "source": [
    "## Division del Dataset"
   ]
  },
  {
   "cell_type": "code",
   "execution_count": 27,
   "metadata": {},
   "outputs": [],
   "source": [
    "features = df.drop(['is_ultra'], axis=1)\n",
    "target = df['is_ultra']"
   ]
  },
  {
   "cell_type": "code",
   "execution_count": 28,
   "metadata": {},
   "outputs": [],
   "source": [
    "# division del dataset 60% 20% 20% \n",
    "features_train, feature_temp, target_train, target_temp = train_test_split(features, target, test_size=0.40, random_state=71, stratify=target)"
   ]
  },
  {
   "cell_type": "code",
   "execution_count": 29,
   "metadata": {},
   "outputs": [],
   "source": [
    "features_test, features_valid, target_test, target_valid = train_test_split(feature_temp, target_temp, test_size=0.50, random_state=71, stratify=target_temp)"
   ]
  },
  {
   "cell_type": "code",
   "execution_count": 30,
   "metadata": {},
   "outputs": [
    {
     "data": {
      "text/plain": [
       "is_ultra\n",
       "0    0.693465\n",
       "1    0.306535\n",
       "Name: proportion, dtype: float64"
      ]
     },
     "execution_count": 30,
     "metadata": {},
     "output_type": "execute_result"
    }
   ],
   "source": [
    "target_train.value_counts(1)"
   ]
  },
  {
   "cell_type": "code",
   "execution_count": 31,
   "metadata": {},
   "outputs": [
    {
     "data": {
      "text/plain": [
       "is_ultra\n",
       "0    0.693624\n",
       "1    0.306376\n",
       "Name: proportion, dtype: float64"
      ]
     },
     "execution_count": 31,
     "metadata": {},
     "output_type": "execute_result"
    }
   ],
   "source": [
    "target_test.value_counts(1)"
   ]
  },
  {
   "cell_type": "code",
   "execution_count": 32,
   "metadata": {},
   "outputs": [
    {
     "data": {
      "text/plain": [
       "is_ultra\n",
       "0    0.693624\n",
       "1    0.306376\n",
       "Name: proportion, dtype: float64"
      ]
     },
     "execution_count": 32,
     "metadata": {},
     "output_type": "execute_result"
    }
   ],
   "source": [
    "target_valid.value_counts(1)"
   ]
  },
  {
   "cell_type": "code",
   "execution_count": 33,
   "metadata": {},
   "outputs": [
    {
     "name": "stdout",
     "output_type": "stream",
     "text": [
      "<class 'pandas.core.frame.DataFrame'>\n",
      "Index: 1928 entries, 894 to 1679\n",
      "Data columns (total 4 columns):\n",
      " #   Column    Non-Null Count  Dtype  \n",
      "---  ------    --------------  -----  \n",
      " 0   calls     1928 non-null   float64\n",
      " 1   minutes   1928 non-null   float64\n",
      " 2   messages  1928 non-null   float64\n",
      " 3   mb_used   1928 non-null   float64\n",
      "dtypes: float64(4)\n",
      "memory usage: 75.3 KB\n",
      "<class 'pandas.core.frame.DataFrame'>\n",
      "Index: 643 entries, 1944 to 3053\n",
      "Data columns (total 4 columns):\n",
      " #   Column    Non-Null Count  Dtype  \n",
      "---  ------    --------------  -----  \n",
      " 0   calls     643 non-null    float64\n",
      " 1   minutes   643 non-null    float64\n",
      " 2   messages  643 non-null    float64\n",
      " 3   mb_used   643 non-null    float64\n",
      "dtypes: float64(4)\n",
      "memory usage: 25.1 KB\n",
      "<class 'pandas.core.frame.DataFrame'>\n",
      "Index: 643 entries, 725 to 3066\n",
      "Data columns (total 4 columns):\n",
      " #   Column    Non-Null Count  Dtype  \n",
      "---  ------    --------------  -----  \n",
      " 0   calls     643 non-null    float64\n",
      " 1   minutes   643 non-null    float64\n",
      " 2   messages  643 non-null    float64\n",
      " 3   mb_used   643 non-null    float64\n",
      "dtypes: float64(4)\n",
      "memory usage: 25.1 KB\n"
     ]
    }
   ],
   "source": [
    "features_train.info()\n",
    "features_test.info()\n",
    "features_valid.info()"
   ]
  },
  {
   "cell_type": "markdown",
   "metadata": {},
   "source": [
    "Dado que desconocemos si en un futuro cercano existira un dataset en el cual se pueda testear el modelo. Se divide el dataset con el que se cuenta en un porcentaje de 60% para el dataset de entrenamiento, 20% para el set de validacion y 20% para el set de testeo."
   ]
  },
  {
   "cell_type": "markdown",
   "metadata": {},
   "source": [
    "## Arbol de decision"
   ]
  },
  {
   "cell_type": "code",
   "execution_count": 34,
   "metadata": {},
   "outputs": [
    {
     "name": "stdout",
     "output_type": "stream",
     "text": [
      "Exactitud de max_depth igual a:  1 : \n",
      "Conjunto de entrenamiento:  0.7505186721991701\n",
      "Conjunto de validacion:  0.7620528771384136 \n",
      "\n",
      "Exactitud de max_depth igual a:  2 : \n",
      "Conjunto de entrenamiento:  0.7733402489626556\n",
      "Conjunto de validacion:  0.7729393468118196 \n",
      "\n",
      "Exactitud de max_depth igual a:  3 : \n",
      "Conjunto de entrenamiento:  0.7852697095435685\n",
      "Conjunto de validacion:  0.7838258164852255 \n",
      "\n",
      "Exactitud de max_depth igual a:  4 : \n",
      "Conjunto de entrenamiento:  0.7427385892116183\n",
      "Conjunto de validacion:  0.744945567651633 \n",
      "\n",
      "Exactitud de max_depth igual a:  5 : \n",
      "Conjunto de entrenamiento:  0.8075726141078838\n",
      "Conjunto de validacion:  0.7869362363919129 \n",
      "\n",
      "Exactitud de max_depth igual a:  6 : \n",
      "Conjunto de entrenamiento:  0.8184647302904564\n",
      "Conjunto de validacion:  0.7791601866251944 \n",
      "\n",
      "Exactitud de max_depth igual a:  7 : \n",
      "Conjunto de entrenamiento:  0.8319502074688797\n",
      "Conjunto de validacion:  0.8009331259720062 \n",
      "\n",
      "Exactitud de max_depth igual a:  8 : \n",
      "Conjunto de entrenamiento:  0.8163900414937759\n",
      "Conjunto de validacion:  0.7356143079315708 \n",
      "\n",
      "Exactitud de max_depth igual a:  9 : \n",
      "Conjunto de entrenamiento:  0.8620331950207469\n",
      "Conjunto de validacion:  0.7729393468118196 \n",
      "\n",
      "Exactitud de max_depth igual a:  10 : \n",
      "Conjunto de entrenamiento:  0.8651452282157677\n",
      "Conjunto de validacion:  0.7402799377916018 \n",
      "\n",
      "La exactitud del mejor modelo en el conjunto de validacion (depth=7) :0.8009331259720062\n"
     ]
    }
   ],
   "source": [
    "best_score_tree = 0\n",
    "best_depth = 0\n",
    "\n",
    "for depth in range(1,11):\n",
    "    model = DecisionTreeClassifier(max_depth=depth, random_state=71, class_weight='balanced')\n",
    "    model.fit(features_train, target_train)\n",
    "    \n",
    "    train_score = model.score(features_train, target_train)\n",
    "    #train_predictions = model.predict(features_train)\n",
    "    #train_accuracy = accuracy_score(target_train, train_predictions)\n",
    "\n",
    "    valid_score = model.score(features_valid, target_valid)   \n",
    "    #test_predictions = model.predict(features_test)\n",
    "    #test_accuracy = accuracy_score(target_test, test_predictions)\n",
    "\n",
    "    print(\"Exactitud de max_depth igual a: \", depth, \": \")\n",
    "    print(\"Conjunto de entrenamiento: \", train_score)\n",
    "    print(\"Conjunto de validacion: \", valid_score, \"\\n\")\n",
    "\n",
    "    if valid_score > best_score_tree:\n",
    "\n",
    "        best_score_tree = valid_score\n",
    "        best_depth = depth\n",
    "\n",
    "print('La exactitud del mejor modelo en el conjunto de validacion (depth={}) :{}'.format(best_depth, best_score_tree))\n",
    "\n",
    "# 3\n",
    "    #print(\"Conjunto de entrenamiento: \", train_accuracy)\n",
    "    #print(\"Conjunto de prueba: \", test_accuracy)\n"
   ]
  },
  {
   "cell_type": "markdown",
   "metadata": {},
   "source": [
    "### Observaciones"
   ]
  },
  {
   "cell_type": "markdown",
   "metadata": {},
   "source": [
    "La mejor exactitud en el conjunto de validación es 0.8009 con una profundidad máxima de 7, lo cual supera el umbral de 0.75 marcado como minimo necesario para el proyecto. La exactitud en el conjunto de entrenamiento con max_depth=7 es 0.8319, indicando un alto rendimiento en los datos de entrenamiento.\n",
    "\n",
    "En los valores mencionados se observa un sobreajuste de 0.3 punto, por lo que no seria la mejor eleccion. Al observar con mayor detenimiento los resultados, es posible verificar que la profundidad donde menos sobreajuste se presenta es en 3, donde la diferencia es de 0.0015 y los resultados en el test de validacion siguen siendo superiores al minimo requerido, con un 0.7838."
   ]
  },
  {
   "cell_type": "markdown",
   "metadata": {},
   "source": [
    "## Bosque aleatorio"
   ]
  },
  {
   "cell_type": "code",
   "execution_count": 35,
   "metadata": {},
   "outputs": [
    {
     "name": "stdout",
     "output_type": "stream",
     "text": [
      "Exactitud de numero de estimadores igual a:  1 : \n",
      "Conjunto de entrenamiento:  0.8890041493775933\n",
      "Conjunto de prueba:  0.7340590979782271 \n",
      "\n",
      "Exactitud de numero de estimadores igual a:  2 : \n",
      "Conjunto de entrenamiento:  0.904045643153527\n",
      "Conjunto de prueba:  0.7729393468118196 \n",
      "\n",
      "Exactitud de numero de estimadores igual a:  3 : \n",
      "Conjunto de entrenamiento:  0.941908713692946\n",
      "Conjunto de prueba:  0.7791601866251944 \n",
      "\n",
      "Exactitud de numero de estimadores igual a:  4 : \n",
      "Conjunto de entrenamiento:  0.9408713692946058\n",
      "Conjunto de prueba:  0.7947122861586314 \n",
      "\n",
      "Exactitud de numero de estimadores igual a:  5 : \n",
      "Conjunto de entrenamiento:  0.9585062240663901\n",
      "Conjunto de prueba:  0.7962674961119751 \n",
      "\n",
      "Exactitud de numero de estimadores igual a:  6 : \n",
      "Conjunto de entrenamiento:  0.9564315352697096\n",
      "Conjunto de prueba:  0.8055987558320373 \n",
      "\n",
      "Exactitud de numero de estimadores igual a:  7 : \n",
      "Conjunto de entrenamiento:  0.9766597510373444\n",
      "Conjunto de prueba:  0.8009331259720062 \n",
      "\n",
      "Exactitud de numero de estimadores igual a:  8 : \n",
      "Conjunto de entrenamiento:  0.9688796680497925\n",
      "Conjunto de prueba:  0.807153965785381 \n",
      "\n",
      "Exactitud de numero de estimadores igual a:  9 : \n",
      "Conjunto de entrenamiento:  0.9787344398340249\n",
      "Conjunto de prueba:  0.80248833592535 \n",
      "\n",
      "Exactitud de numero de estimadores igual a:  10 : \n",
      "Conjunto de entrenamiento:  0.9740663900414938\n",
      "Conjunto de prueba:  0.8055987558320373 \n",
      "\n",
      "La exactitud del mejor modelo en el conjunto de validacion (n_estimators=8) :0.807153965785381\n"
     ]
    }
   ],
   "source": [
    "best_score_forest = 0\n",
    "best_est = 0\n",
    "\n",
    "for est in range(1,11):\n",
    "    model_forest = RandomForestClassifier(n_estimators=est, random_state=71)\n",
    "    model_forest.fit(features_train, target_train)\n",
    "\n",
    "    train_score_forest = model_forest.score(features_train, target_train)\n",
    "\n",
    "    valid_score_forest = model_forest.score(features_valid, target_valid)   \n",
    "    \n",
    "\n",
    "    print(\"Exactitud de numero de estimadores igual a: \", est, \": \")\n",
    "    print(\"Conjunto de entrenamiento: \", train_score_forest)\n",
    "    print(\"Conjunto de prueba: \", valid_score_forest, \"\\n\")\n",
    "\n",
    "    if valid_score_forest > best_score_forest:\n",
    "        best_score_forest = valid_score_forest\n",
    "        best_est = est\n",
    "\n",
    "print('La exactitud del mejor modelo en el conjunto de validacion (n_estimators={}) :{}'.format(best_est, best_score_forest))\n",
    "\n",
    "#6\n"
   ]
  },
  {
   "cell_type": "markdown",
   "metadata": {},
   "source": [
    "### Observaciones"
   ]
  },
  {
   "cell_type": "markdown",
   "metadata": {},
   "source": [
    "La mejor exactitud en el conjunto de validación es 0.8071 con 8 estimadores. La exactitud en el conjunto de entrenamiento con 8 estimadores es 0.9688, mostrando nuevamente un sobreajuste importante de 0.16 puntos. Por lo que esta tampoco parece ser la opcion mas sensata\n",
    "\n",
    "La menor diferencia es de 0.1311 con 2 estimadores, pero la precisión en validación es menor 0.7729 en comparación con el árbol de decisión max_depth = 3."
   ]
  },
  {
   "cell_type": "markdown",
   "metadata": {},
   "source": [
    "## Regresion logistica"
   ]
  },
  {
   "cell_type": "code",
   "execution_count": 36,
   "metadata": {},
   "outputs": [
    {
     "name": "stdout",
     "output_type": "stream",
     "text": [
      "La exactitud del modelo de regresión logística en el conjunto de entrenamiento: 0.7033195020746889\n",
      "La exactitud del modelo de regresión logística en el conjunto de validación: 0.8055987558320373\n"
     ]
    }
   ],
   "source": [
    "\n",
    "model_linear = LogisticRegression(random_state=71, solver='liblinear')\n",
    "model_linear.fit(features_train, target_train)\n",
    "\n",
    "train_score_linear = model_linear.score(features_train, target_train)\n",
    "\n",
    "valid_score_linear = model_linear.score(features_valid, target_valid)   \n",
    "    \n",
    "print(\"La exactitud del modelo de regresión logística en el conjunto de entrenamiento:\", train_score_linear)\n",
    "print(\"La exactitud del modelo de regresión logística en el conjunto de validación:\", valid_score_forest)"
   ]
  },
  {
   "cell_type": "markdown",
   "metadata": {},
   "source": [
    "### Observaciones "
   ]
  },
  {
   "cell_type": "markdown",
   "metadata": {},
   "source": [
    "Muestra subajuste con una precisión en entrenamiento relativamente baja (0.7033), pero tiene una buena precisión en validación (0.8056). Sin embargo, la gran diferencia negativa sugiere que no está capturando bien los patrones en los datos."
   ]
  },
  {
   "cell_type": "markdown",
   "metadata": {},
   "source": [
    "## Conclusion "
   ]
  },
  {
   "cell_type": "markdown",
   "metadata": {},
   "source": [
    "Modelo Elegido: Arbol de desicion con una fofundidad de 3.\n",
    "\n",
    "Razón:  Este modelo tiene una buena precisión en validación (0.7838) y una diferencia mínima entre los conjuntos de entrenamiento y validación, lo que indica un buen equilibrio entre complejidad del modelo y capacidad de generalización."
   ]
  },
  {
   "cell_type": "markdown",
   "metadata": {},
   "source": [
    "## Calidad del modelo "
   ]
  },
  {
   "cell_type": "code",
   "execution_count": 37,
   "metadata": {},
   "outputs": [
    {
     "name": "stdout",
     "output_type": "stream",
     "text": [
      "La exactitud del modelo es de:  0.7822706065318819\n",
      "El numero de errores cometidos por el modelo es de:  140\n",
      "El porcentaje de errores cometidos por el modelo es de:  21.77293934681182 %\n"
     ]
    }
   ],
   "source": [
    "model_test = DecisionTreeClassifier(random_state=71, max_depth= 3)\n",
    "\n",
    "model_test.fit(features_train, target_train)\n",
    "\n",
    "predictions = model_test.predict(features_test)\n",
    "\n",
    "errors = (predictions != target_test.values).sum()\n",
    "\n",
    "score_t = model_test.score(features_test, target_test)\n",
    "\n",
    "print('La exactitud del modelo es de: ',score_t)\n",
    "\n",
    "print('El numero de errores cometidos por el modelo es de: ', errors)\n",
    "\n",
    "print('El porcentaje de errores cometidos por el modelo es de: ', (errors/len(target_test))*100, '%')"
   ]
  },
  {
   "cell_type": "markdown",
   "metadata": {},
   "source": [
    "## Prueba de cordura"
   ]
  },
  {
   "cell_type": "code",
   "execution_count": 38,
   "metadata": {},
   "outputs": [
    {
     "name": "stdout",
     "output_type": "stream",
     "text": [
      "0.6936236391912908\n"
     ]
    }
   ],
   "source": [
    "\n",
    "dummy_clf = DummyClassifier(strategy=\"most_frequent\")\n",
    "dummy_clf.fit(features_train, target_train)\n",
    "\n",
    "dummy_predictions = dummy_clf.predict(features_test)\n",
    "\n",
    "score_c = dummy_clf.score(features_test, target_test)\n",
    "\n",
    "print(score_c)\n"
   ]
  },
  {
   "cell_type": "markdown",
   "metadata": {},
   "source": [
    "## Conclusiones Generales"
   ]
  },
  {
   "cell_type": "markdown",
   "metadata": {},
   "source": [
    "1. Se realizaron pruebas con tres distintos tipo de modelos para clasificacion, arbol de decision, bosque aleatorio y regresion logitica. En los tres casos se observa que los modelos se ven afectados por el sobreajuste, por esta razon se elige como modelo para realizar el teste el Arbol de decision con una profundidad de 3; dado que es el que presenta la menor diferencia en la exactitud caculada entre el set de entrenamiento y el de validacion. \n",
    "\n",
    "2. Se entreno nuevamente el modelo con los parametros elegidos y para que generara las predicciones sobre el set de testeo. Al calcular su exactitud se observa que obtuvo una puntuacion del 0.7822, por lo que super el 0.75 establecido como minimo requerido. \n",
    "\n",
    "3. Se realizo una prueba de cordura con el modelo DummyClassifier y se obtuvo una exactitud del 0.6936, por lo que se puede concluir que el modelo elegido es capaz de predecir con mayor exactitud que la casualidad o si lo dejaramos a la suerte.\n",
    "\n",
    "4. Se realizo el calculo de los errores que cometio el modelo en el set de testeo y se observa que 140 resultados de los 643 son errores. Lo que corresponde al 21% y concuerda con el porcentaje de aciertos. \n",
    "\n",
    "5. Dados los resultados obtenidos podemos considerar que el modelo funciona en una parte importante de los pasos y ayudaria a predecir con una exactitud del 78% "
   ]
  },
  {
   "cell_type": "markdown",
   "metadata": {},
   "source": []
  }
 ],
 "metadata": {
  "kernelspec": {
   "display_name": "ambiente1",
   "language": "python",
   "name": "python3"
  },
  "language_info": {
   "codemirror_mode": {
    "name": "ipython",
    "version": 3
   },
   "file_extension": ".py",
   "mimetype": "text/x-python",
   "name": "python",
   "nbconvert_exporter": "python",
   "pygments_lexer": "ipython3",
   "version": "3.12.2"
  }
 },
 "nbformat": 4,
 "nbformat_minor": 2
}
